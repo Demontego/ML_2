{
 "cells": [
  {
   "cell_type": "markdown",
   "metadata": {},
   "source": [
    "# Introduction\n",
    "State notebook purpose here"
   ]
  },
  {
   "cell_type": "markdown",
   "metadata": {},
   "source": [
    "### Imports\n",
    "Import libraries and write settings here."
   ]
  },
  {
   "cell_type": "code",
   "execution_count": 17,
   "metadata": {},
   "outputs": [],
   "source": [
    "# Data manipulation\n",
    "import pandas as pd\n",
    "import numpy as np\n",
    "\n",
    "# Options for pandas\n",
    "pd.options.display.max_columns = 50\n",
    "pd.options.display.max_rows = 30\n",
    "\n",
    "# Display all cell outputs\n",
    "from IPython.core.interactiveshell import InteractiveShell\n",
    "InteractiveShell.ast_node_interactivity = 'all'\n",
    "\n",
    "from IPython import get_ipython\n",
    "ipython = get_ipython()\n",
    "\n",
    "# autoreload extension\n",
    "if 'autoreload' not in ipython.extension_manager.loaded:\n",
    "    %load_ext autoreload\n",
    "\n",
    "%autoreload 2\n",
    "\n",
    "import argparse\n",
    "import subprocess\n",
    "import numpy as np\n",
    "import matplotlib.pyplot as pl\n",
    "\n",
    "from math import sqrt\n",
    "\n",
    "# Import the linear regression\n",
    "from sklearn.linear_model import LinearRegression\n",
    "from sklearn.metrics import mean_squared_error"
   ]
  },
  {
   "cell_type": "markdown",
   "metadata": {},
   "source": [
    "# Analysis/Modeling\n",
    "Do work here"
   ]
  },
  {
   "cell_type": "code",
   "execution_count": 10,
   "metadata": {},
   "outputs": [],
   "source": [
    "def oracle(x1, x2, x3, x4, x5, x6, x7, x8, x9, x10):\n",
    "    query = \"java -cp Oracle.jar Oracle \" + str(x1) + \" \" + str(x2) + \" \" + str(x3) + \" \" + \\\n",
    "            str(x4) + \" \" + str(x5) + \" \" + \" \" + str(x6) + \" \" + str(x7) + \" \" + \\\n",
    "            str(x8) + \" \" + str(x9) + \" \" + str(x10)\n",
    "\n",
    "    return subprocess.getoutput(query)"
   ]
  },
  {
   "cell_type": "code",
   "execution_count": 9,
   "metadata": {},
   "outputs": [],
   "source": [
    "def parse_args():\n",
    "    parser = argparse.ArgumentParser(description='Random Forest Tutorial')\n",
    "    parser.add_argument(\"-tr\", \"--train\", action=\"store\", type=str, help=\"Train file name\")\n",
    "    parser.add_argument(\"-te\", \"--test\", action=\"store\", type=str, help=\"Test file name\")\n",
    "    return parser.parse_args()"
   ]
  },
  {
   "cell_type": "markdown",
   "metadata": {},
   "source": [
    "# Results\n",
    "Show graphs and stats here"
   ]
  },
  {
   "cell_type": "code",
   "execution_count": 18,
   "metadata": {},
   "outputs": [
    {
     "name": "stdout",
     "output_type": "stream",
     "text": [
      "Build linear regression...\n"
     ]
    },
    {
     "data": {
      "text/plain": [
       "LinearRegression(copy_X=True, fit_intercept=True, n_jobs=None, normalize=False)"
      ]
     },
     "execution_count": 18,
     "metadata": {},
     "output_type": "execute_result"
    },
    {
     "name": "stdout",
     "output_type": "stream",
     "text": [
      "Rmse = 89161578287.04478\n",
      "1.2391192977344803\n"
     ]
    }
   ],
   "source": [
    "train_data = np.loadtxt('train.txt')\n",
    "test_data  = np.loadtxt('test.txt')\n",
    "\n",
    "total_data = np.concatenate(([train_data, test_data]), axis=0)\n",
    "\n",
    "number_of_features = len(train_data[0, :])\n",
    "number_of_items = len(train_data)\n",
    "\n",
    "#Linear regression\n",
    "print (\"Build linear regression...\")\n",
    "linear_regression = LinearRegression()\n",
    "linear_regression.fit(train_data[0::, 1::], train_data[0::, 0])\n",
    "lr_prediction = linear_regression.predict(test_data[0::, 1::])\n",
    "\n",
    "rmse = sqrt(mean_squared_error(test_data[0::, 0], lr_prediction))\n",
    "\n",
    "print ('Rmse = ' + str(rmse))\n",
    "\n",
    "#Example oracle call\n",
    "print (oracle(1, 1, 1, 0.8, 0.8, 1, 1, 0.8, 1, 0.8))"
   ]
  },
  {
   "cell_type": "markdown",
   "metadata": {},
   "source": [
    "# Conclusions and Next Steps\n",
    "Summarize findings here"
   ]
  },
  {
   "cell_type": "code",
   "execution_count": null,
   "metadata": {},
   "outputs": [],
   "source": []
  }
 ],
 "metadata": {
  "kernelspec": {
   "display_name": "Python 3",
   "language": "python",
   "name": "python3"
  },
  "language_info": {
   "codemirror_mode": {
    "name": "ipython",
    "version": 3
   },
   "file_extension": ".py",
   "mimetype": "text/x-python",
   "name": "python",
   "nbconvert_exporter": "python",
   "pygments_lexer": "ipython3",
   "version": "3.7.6"
  },
  "toc": {
   "base_numbering": 1,
   "nav_menu": {},
   "number_sections": true,
   "sideBar": true,
   "skip_h1_title": false,
   "title_cell": "Table of Contents",
   "title_sidebar": "Contents",
   "toc_cell": false,
   "toc_position": {},
   "toc_section_display": true,
   "toc_window_display": false
  }
 },
 "nbformat": 4,
 "nbformat_minor": 4
}
