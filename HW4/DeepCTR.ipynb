{
 "cells": [
  {
   "cell_type": "markdown",
   "metadata": {},
   "source": [
    "# Introduction\n",
    "State notebook purpose here"
   ]
  },
  {
   "cell_type": "markdown",
   "metadata": {},
   "source": [
    "### Imports\n",
    "Import libraries and write settings here."
   ]
  },
  {
   "cell_type": "code",
   "execution_count": 1,
   "metadata": {},
   "outputs": [],
   "source": [
    "import pandas as pd\n",
    "import numpy as np\n",
    "import torch\n",
    "from sklearn.metrics import log_loss, roc_auc_score\n",
    "from sklearn.model_selection import train_test_split\n",
    "from sklearn.preprocessing import LabelEncoder, MinMaxScaler\n",
    "from deepctr_torch.inputs import SparseFeat, DenseFeat, get_feature_names\n",
    "from deepctr_torch.models import *"
   ]
  },
  {
   "cell_type": "code",
   "execution_count": 2,
   "metadata": {},
   "outputs": [
    {
     "name": "stdout",
     "output_type": "stream",
     "text": [
      "(20317220, 19)\n"
     ]
    }
   ],
   "source": [
    "data_train = pd.read_csv('data/train.csv')\n",
    "data_test = pd.read_csv('data/test.csv')\n",
    "data = pd.concat([data_train,data_test])\n",
    "sparse_features = ['C' + str(i) for i in range(1, 16)]\n",
    "dense_features = ['I' + str(i) for i in range(1, 3)]\n",
    "data_train = []\n",
    "data_test= []"
   ]
  },
  {
   "cell_type": "code",
   "execution_count": 3,
   "metadata": {},
   "outputs": [],
   "source": [
    "data[sparse_features] = data[sparse_features].fillna(-1, )\n",
    "data[dense_features] = data[dense_features].fillna(0, )"
   ]
  },
  {
   "cell_type": "code",
   "execution_count": 4,
   "metadata": {},
   "outputs": [],
   "source": [
    "target = ['Label']\n",
    "for feat in sparse_features:\n",
    "    lbe = LabelEncoder()\n",
    "    data[feat] = lbe.fit_transform(data[feat])"
   ]
  },
  {
   "cell_type": "code",
   "execution_count": 5,
   "metadata": {},
   "outputs": [],
   "source": [
    "mms = MinMaxScaler(feature_range=(0, 1))\n",
    "data[dense_features] = mms.fit_transform(data[dense_features])\n",
    "fixlen_feature_columns = [SparseFeat(feat, data[feat].nunique())\n",
    "                          for feat in sparse_features] + [DenseFeat(feat, 1, )\n",
    "                                                          for feat in dense_features]\n",
    "dnn_feature_columns = fixlen_feature_columns\n",
    "linear_feature_columns = fixlen_feature_columns\n",
    "feature_names = get_feature_names(\n",
    "    linear_feature_columns + dnn_feature_columns)\n",
    "\n",
    "train, test = train_test_split(data, test_size=20317220, shuffle=False)\n",
    "\n",
    "train_model_input = {name: train[name] for name in feature_names}\n",
    "test_model_input = {name: test[name] for name in feature_names}\n",
    "\n",
    "device = 'cpu'\n",
    "use_cuda = True\n",
    "if use_cuda and torch.cuda.is_available():\n",
    "    print('cuda ready...')\n",
    "    device = 'cuda:0'"
   ]
  },
  {
   "cell_type": "code",
   "execution_count": 6,
   "metadata": {},
   "outputs": [],
   "source": [
    "data=[]\n",
    "y=train[target].values\n",
    "train=[]\n",
    "test=[]"
   ]
  },
  {
   "cell_type": "code",
   "execution_count": 8,
   "metadata": {},
   "outputs": [],
   "source": [
    "model = DeepFM(linear_feature_columns=linear_feature_columns, dnn_feature_columns=dnn_feature_columns,\n",
    "               task='binary',\n",
    "               l2_reg_embedding=1e-4, device=device)\n",
    "model.compile(\"adam\", \"binary_crossentropy\",\n",
    "              metrics=[\"binary_crossentropy\"], )"
   ]
  },
  {
   "cell_type": "code",
   "execution_count": 22,
   "metadata": {},
   "outputs": [
    {
     "name": "stdout",
     "output_type": "stream",
     "text": [
      "cpu\n",
      "Train on 29989752 samples, validate on 0 samples, 12 steps per epoch\n",
      "Epoch 1/2\n",
      "1695s - loss:  0.0150 - binary_crossentropy:  0.0150\n",
      "Epoch 2/2\n",
      "1675s - loss:  0.0145 - binary_crossentropy:  0.0144\n"
     ]
    }
   ],
   "source": [
    "model.fit(train_model_input, y,\n",
    "          batch_size=2499146, epochs=11,  verbose=2)"
   ]
  },
  {
   "cell_type": "code",
   "execution_count": 23,
   "metadata": {},
   "outputs": [],
   "source": [
    "pred = model.predict(test_model_input)"
   ]
  },
  {
   "cell_type": "code",
   "execution_count": 24,
   "metadata": {},
   "outputs": [],
   "source": [
    "with open(\"UpDeepFM.csv\", 'w') as f:\n",
    "    f.write(\"Id,Click\\n\")\n",
    "    for i,j in enumerate(pred):\n",
    "        f.write(str(i+1)+\",\"+str(j[0])+\"\\n\")"
   ]
  },
  {
   "cell_type": "code",
   "execution_count": 45,
   "metadata": {},
   "outputs": [],
   "source": [
    "with open(\"deepCTR_5ep_gpu_12ep.csv\", 'r') as f:\n",
    "    for i,j in enumerate(f.readlines()):\n",
    "        if(i==0):\n",
    "            continue\n",
    "        line = j.split(\",\")\n",
    "        s=float(line[1])\n",
    "        deep12.append(s)"
   ]
  },
  {
   "cell_type": "code",
   "execution_count": 34,
   "metadata": {},
   "outputs": [],
   "source": [
    "with open(\"submission.csv\", 'r') as f:\n",
    "    for i,j in enumerate(f.readlines()):\n",
    "        if(i==0):\n",
    "            continue\n",
    "        line = j.split(\",\")\n",
    "        s=float(line[1])\n",
    "        y_pred.append(s)\n",
    "        "
   ]
  },
  {
   "cell_type": "code",
   "execution_count": 46,
   "metadata": {},
   "outputs": [],
   "source": [
    "wampal = []\n",
    "with open(\"wampal.csv\", 'r') as f:\n",
    "    for i,j in enumerate(f.readlines()):\n",
    "        if(i==0):\n",
    "            continue\n",
    "        line = j.split(\",\")\n",
    "        s=float(line[1])\n",
    "        wampal.append(s)"
   ]
  },
  {
   "cell_type": "code",
   "execution_count": 49,
   "metadata": {},
   "outputs": [],
   "source": [
    "deep5 = []\n",
    "with open(\"wampal.csv\", 'r') as f:\n",
    "    for i,j in enumerate(f.readlines()):\n",
    "        if(i==0):\n",
    "            continue\n",
    "        line = j.split(\",\")\n",
    "        s=float(line[1])\n",
    "        deep5.append(s)"
   ]
  },
  {
   "cell_type": "code",
   "execution_count": 51,
   "metadata": {},
   "outputs": [],
   "source": [
    "with open(\"VW_ffm_deep11.csv\", 'w') as f:\n",
    "    f.write(\"Id,Click\\n\")\n",
    "    for i in range(len(y_pred)):\n",
    "        res=0.2*y_pred[i]+0.6*wampal[i]+0.2*pred[i][0]\n",
    "        f.write(str(i+1)+\",\"+str(res)+'\\n')"
   ]
  },
  {
   "cell_type": "code",
   "execution_count": 48,
   "metadata": {},
   "outputs": [],
   "source": [
    "with open(\"All.csv\", 'w') as f:\n",
    "    f.write(\"Id,Click\\n\")\n",
    "    for i in range(len(y_pred)):\n",
    "        res=0.2*ffm[i]+0.7*wampal[i]+0.1*deep11[i]\n",
    "        f.write(str(i+1)+\",\"+str(res)+'\\n')"
   ]
  },
  {
   "cell_type": "code",
   "execution_count": 50,
   "metadata": {},
   "outputs": [],
   "source": [
    "with open(\"VW+deep5.csv\", 'w') as f:\n",
    "    f.write(\"Id,Click\\n\")\n",
    "    for i in range(len(y_pred)):\n",
    "        res=0.8*wampal[i]+0.2*deep5[i]\n",
    "        f.write(str(i+1)+\",\"+str(res)+'\\n')"
   ]
  },
  {
   "cell_type": "markdown",
   "metadata": {},
   "source": [
    "# Analysis/Modeling\n",
    "Do work here"
   ]
  },
  {
   "cell_type": "markdown",
   "metadata": {},
   "source": [
    "# Results\n",
    "Show graphs and stats here"
   ]
  },
  {
   "cell_type": "markdown",
   "metadata": {},
   "source": [
    "# Conclusions and Next Steps\n",
    "Summarize findings here"
   ]
  },
  {
   "cell_type": "code",
   "execution_count": null,
   "metadata": {},
   "outputs": [],
   "source": []
  }
 ],
 "metadata": {
  "kernelspec": {
   "display_name": "Python 3",
   "language": "python",
   "name": "python3"
  },
  "language_info": {
   "codemirror_mode": {
    "name": "ipython",
    "version": 3
   },
   "file_extension": ".py",
   "mimetype": "text/x-python",
   "name": "python",
   "nbconvert_exporter": "python",
   "pygments_lexer": "ipython3",
   "version": "3.7.6"
  },
  "toc": {
   "base_numbering": 1,
   "nav_menu": {},
   "number_sections": true,
   "sideBar": true,
   "skip_h1_title": false,
   "title_cell": "Table of Contents",
   "title_sidebar": "Contents",
   "toc_cell": false,
   "toc_position": {},
   "toc_section_display": true,
   "toc_window_display": false
  }
 },
 "nbformat": 4,
 "nbformat_minor": 4
}
